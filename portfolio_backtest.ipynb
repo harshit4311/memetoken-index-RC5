{
 "cells": [
  {
   "cell_type": "code",
   "execution_count": 1,
   "id": "f7e40411",
   "metadata": {},
   "outputs": [],
   "source": [
    "import pandas as pd\n",
    "import numpy as np\n",
    "import glob\n",
    "import matplotlib.pyplot as plt\n",
    "import os"
   ]
  },
  {
   "cell_type": "code",
   "execution_count": 2,
   "id": "ce30dea1",
   "metadata": {},
   "outputs": [
    {
     "name": "stdout",
     "output_type": "stream",
     "text": [
      "Found 6 CSV files.\n",
      "\n",
      "JOE: 386 rows\n",
      "KIZUNA: 395 rows\n",
      "HAY: 373 rows\n",
      "TITANX: 369 rows\n",
      "BIGTIME: 386 rows\n",
      "VOMBATUS: 106 rows\n"
     ]
    }
   ],
   "source": [
    "# Path to your CSVs\n",
    "path = \"/Users/harshit/Downloads/Research-Commons-Quant/memetoken-index-RC5/dataframes/*.csv\"\n",
    "csv_files = glob.glob(path)\n",
    "\n",
    "print(f\"Found {len(csv_files)} CSV files.\\n\")\n",
    "\n",
    "# Print filename and number of rows\n",
    "for file in csv_files:\n",
    "    try:\n",
    "        df = pd.read_csv(file)\n",
    "        token = os.path.basename(file).replace(\".csv\", \"\")\n",
    "        print(f\"{token}: {df.shape[0]} rows\")\n",
    "    except Exception as e:\n",
    "        print(f\"Failed to read {file}: {e}\")"
   ]
  },
  {
   "cell_type": "code",
   "execution_count": null,
   "id": "38cebfad",
   "metadata": {},
   "outputs": [],
   "source": []
  }
 ],
 "metadata": {
  "kernelspec": {
   "display_name": "base",
   "language": "python",
   "name": "python3"
  },
  "language_info": {
   "codemirror_mode": {
    "name": "ipython",
    "version": 3
   },
   "file_extension": ".py",
   "mimetype": "text/x-python",
   "name": "python",
   "nbconvert_exporter": "python",
   "pygments_lexer": "ipython3",
   "version": "3.12.4"
  }
 },
 "nbformat": 4,
 "nbformat_minor": 5
}
